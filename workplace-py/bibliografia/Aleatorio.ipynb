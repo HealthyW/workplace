{
  "cells": [
    {
      "cell_type": "markdown",
      "metadata": {
        "id": "TWAxD_lLZgbP"
      },
      "source": [
        "**Módulo random**\n",
        "\n",
        "El módulo random de Python tiene funciones que permiten\n",
        "generar en forma aleatoria\n",
        "\n",
        "*   **randint(a,b)**: genera un número entero en el rango a y b, extremos inclusive\n"
      ]
    },
    {
      "cell_type": "code",
      "execution_count": null,
      "metadata": {
        "colab": {
          "base_uri": "https://localhost:8080/"
        },
        "id": "lcyG5hcKaqub",
        "outputId": "65a2327e-09d7-459b-92a3-7fc89bba988d"
      },
      "outputs": [],
      "source": [
        "#Ejemplo: Realizar un programa que permita generar y mostrar n números \n",
        "#enteros en forma aleatoria en el rango (20 a 50)\n",
        "import random\n",
        "n=int(input(\"Cúantos números desea generar: \"))\n",
        "cont=0\n",
        "print(\"\\nLos numeros generados son:\")\n",
        "while(cont<n):\n",
        "\tnum=random.randint(20,50)\n",
        "\tprint(num, end=\" \")\n",
        "\tcont+=1\n"
      ]
    },
    {
      "cell_type": "markdown",
      "metadata": {
        "id": "DDdAWwb6cfI7"
      },
      "source": [
        "*   **uniform(a,b):** genera un número real en el rango a y b,\n",
        "extremos inclusive"
      ]
    },
    {
      "cell_type": "code",
      "execution_count": null,
      "metadata": {
        "id": "-7TQCyWcclWQ"
      },
      "outputs": [],
      "source": [
        "\"\"\"\n",
        "Realizar un programa que permita generar y mostrar n números \n",
        "reales en forma aleatoria en el rango (20 a 50)\n",
        "\"\"\"\n",
        "import random\n",
        "n=int(input(\"Cúantos números desea generar: \"))\n",
        "cont=0\n",
        "print(\"\\nLos numeros generados son:\")\n",
        "while(cont<n):\n",
        "\tnum=random.uniform(20,50)\n",
        "\tprint(num, end=\"   \")\n",
        "\tcont+=1"
      ]
    },
    {
      "cell_type": "markdown",
      "metadata": {
        "id": "GHZBX6ogdKi6"
      },
      "source": [
        "*   **choice(....):** selecciona al azar un elemento"
      ]
    },
    {
      "cell_type": "code",
      "execution_count": null,
      "metadata": {
        "id": "M3cLor5ldTiN"
      },
      "outputs": [],
      "source": [
        "#Ejemplo 1 generar en forma aleatoria una vocal y luego mostrarla\n",
        "import random\n",
        "vocal=random.choice(\"AEIOU\")\n",
        "print(\"La vocal generada es \"+vocal)"
      ]
    },
    {
      "cell_type": "code",
      "execution_count": null,
      "metadata": {
        "id": "z_Dkp5-HeHmg"
      },
      "outputs": [],
      "source": [
        "#Ejemplo 2 generar en forma aleatoria el tipo de mascota que puede ser Gato, Perro, Loro o Hurón y luego mostrarla\n",
        "import random\n",
        "mascota=random.choice([\"Gato\",\"Perro\",\"Loro\",\"Hurón\"])\n",
        "print(\" Su mascota es un \"+mascota)"
      ]
    },
    {
      "cell_type": "code",
      "execution_count": null,
      "metadata": {
        "id": "vQF58cW5e3Ly"
      },
      "outputs": [],
      "source": [
        "#Ejemplo 3 generar en forma aleatoria uno de los siguientes números 45,67,23 o 12 y luego mostrarlo\n",
        "import random\n",
        "n=random.choice([45,67,23,12])\n",
        "print(\"El número generado es  \"+str(n))"
      ]
    }
  ],
  "metadata": {
    "colab": {
      "provenance": []
    },
    "kernelspec": {
      "display_name": "Python 3",
      "name": "python3"
    },
    "language_info": {
      "codemirror_mode": {
        "name": "ipython",
        "version": 3
      },
      "file_extension": ".py",
      "mimetype": "text/x-python",
      "name": "python",
      "nbconvert_exporter": "python",
      "pygments_lexer": "ipython3",
      "version": "3.10.5"
    }
  },
  "nbformat": 4,
  "nbformat_minor": 0
}
